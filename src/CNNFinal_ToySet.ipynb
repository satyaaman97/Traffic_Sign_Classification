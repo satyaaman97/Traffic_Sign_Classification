{
 "cells": [
  {
   "cell_type": "code",
   "execution_count": 167,
   "metadata": {},
   "outputs": [],
   "source": [
    "\n",
    "\n",
    "import keras"
   ]
  },
  {
   "cell_type": "code",
   "execution_count": 52,
   "metadata": {},
   "outputs": [
    {
     "name": "stdout",
     "output_type": "stream",
     "text": [
      "Requirement already satisfied: Keras in /anaconda3/lib/python3.7/site-packages (2.3.1)\n",
      "Requirement already satisfied: keras-preprocessing>=1.0.5 in /anaconda3/lib/python3.7/site-packages (from Keras) (1.1.0)\n",
      "Requirement already satisfied: scipy>=0.14 in /anaconda3/lib/python3.7/site-packages (from Keras) (1.3.0)\n",
      "Requirement already satisfied: six>=1.9.0 in /anaconda3/lib/python3.7/site-packages (from Keras) (1.12.0)\n",
      "Requirement already satisfied: pyyaml in /anaconda3/lib/python3.7/site-packages (from Keras) (5.1.1)\n",
      "Requirement already satisfied: numpy>=1.9.1 in /anaconda3/lib/python3.7/site-packages (from Keras) (1.16.4)\n",
      "Requirement already satisfied: h5py in /anaconda3/lib/python3.7/site-packages (from Keras) (2.9.0)\n",
      "Requirement already satisfied: keras-applications>=1.0.6 in /anaconda3/lib/python3.7/site-packages (from Keras) (1.0.8)\n",
      "Note: you may need to restart the kernel to use updated packages.\n"
     ]
    }
   ],
   "source": [
    "\n"
   ]
  },
  {
   "cell_type": "code",
   "execution_count": 168,
   "metadata": {},
   "outputs": [],
   "source": [
    "from keras.models import Sequential\n"
   ]
  },
  {
   "cell_type": "code",
   "execution_count": 169,
   "metadata": {},
   "outputs": [],
   "source": [
    "from keras.utils.np_utils import to_categorical\n",
    "from keras.layers import Dense, Dropout, Activation, Flatten, Conv2D, MaxPool2D, AvgPool2D, BatchNormalization, Reshape"
   ]
  },
  {
   "cell_type": "code",
   "execution_count": 170,
   "metadata": {},
   "outputs": [],
   "source": [
    "from keras.preprocessing.image import ImageDataGenerator"
   ]
  },
  {
   "cell_type": "code",
   "execution_count": 171,
   "metadata": {},
   "outputs": [],
   "source": [
    "from keras.callbacks import LearningRateScheduler"
   ]
  },
  {
   "cell_type": "code",
   "execution_count": 172,
   "metadata": {},
   "outputs": [],
   "source": [
    "model = Sequential()\n",
    "model.add(Conv2D(32, (3, 3),activation='relu', input_shape=(32,32,3)))\n",
    "model.add(MaxPool2D(pool_size=2))\n",
    "\n",
    "model.add(Conv2D(32, (3, 3),activation='relu'))\n",
    "model.add(MaxPool2D(pool_size=2))\n",
    "\n",
    "model.add(Conv2D(64, (3, 3),activation='relu'))\n",
    "model.add(MaxPool2D(pool_size=2))\n",
    "\n",
    "model.add(Flatten()) \n",
    "model.add(Dense(500))\n",
    "model.add(Activation('relu'))\n",
    "\n",
    "model.add(Dense(43))\n",
    "model.add(Activation('softmax'))\n",
    "\n",
    "\n",
    "model.compile(optimizer='adam', loss='categorical_crossentropy', metrics=['accuracy'])"
   ]
  },
  {
   "cell_type": "code",
   "execution_count": 173,
   "metadata": {},
   "outputs": [],
   "source": [
    "annealer = LearningRateScheduler(lambda x: 1e-3 * 0.95 ** (x + epochs))\n",
    "epochs = 15"
   ]
  },
  {
   "cell_type": "code",
   "execution_count": 174,
   "metadata": {},
   "outputs": [],
   "source": [
    "import pickle"
   ]
  },
  {
   "cell_type": "code",
   "execution_count": 175,
   "metadata": {},
   "outputs": [],
   "source": [
    "with open('ToySet3_rgb.pickle', 'rb') as f:\n",
    "    data = pickle.load(f, encoding='latin1')"
   ]
  },
  {
   "cell_type": "code",
   "execution_count": 176,
   "metadata": {},
   "outputs": [
    {
     "name": "stdout",
     "output_type": "stream",
     "text": [
      "x_train: (430, 32, 32, 3)\n",
      "y_train: (430, 43)\n",
      "x_validation: (430, 32, 32, 3)\n",
      "y_validation: (430, 43)\n",
      "x_test: (430, 32, 32, 3)\n",
      "y_test: (430,)\n",
      "labels: 43\n"
     ]
    }
   ],
   "source": [
    "\n",
    "data['y_train'] = to_categorical(data['y_train'], num_classes=43)\n",
    "data['y_validation'] = to_categorical(data['y_validation'], num_classes=43)\n",
    "\n",
    "# Making channels come at the end\n",
    "data['x_train'] = data['x_train'].transpose(0, 2, 3, 1)\n",
    "data['x_validation'] = data['x_validation'].transpose(0, 2, 3, 1)\n",
    "data['x_test'] = data['x_test'].transpose(0, 2, 3, 1)\n",
    "\n",
    "# Showing loaded data from file\n",
    "for i, j in data.items():\n",
    "    if i == 'labels':\n",
    "        print(i + ':', len(j))\n",
    "    else: \n",
    "        print(i + ':', j.shape)"
   ]
  },
  {
   "cell_type": "code",
   "execution_count": 177,
   "metadata": {},
   "outputs": [
    {
     "name": "stdout",
     "output_type": "stream",
     "text": [
      "Train on 430 samples, validate on 430 samples\n",
      "Epoch 1/15\n",
      "430/430 [==============================] - 2s 4ms/step - loss: 6.2333 - accuracy: 0.0605 - val_loss: 3.6888 - val_accuracy: 0.0907\n",
      "Epoch 2/15\n",
      "430/430 [==============================] - 1s 3ms/step - loss: 3.1445 - accuracy: 0.2116 - val_loss: 3.3547 - val_accuracy: 0.1605\n",
      "Epoch 3/15\n",
      "430/430 [==============================] - 1s 3ms/step - loss: 2.3775 - accuracy: 0.3977 - val_loss: 3.1192 - val_accuracy: 0.2140\n",
      "Epoch 4/15\n",
      "430/430 [==============================] - 2s 4ms/step - loss: 1.7050 - accuracy: 0.5651 - val_loss: 3.0245 - val_accuracy: 0.3047\n",
      "Epoch 5/15\n",
      "430/430 [==============================] - 2s 4ms/step - loss: 1.2577 - accuracy: 0.6651 - val_loss: 2.9179 - val_accuracy: 0.3465\n",
      "Epoch 6/15\n",
      "430/430 [==============================] - 2s 4ms/step - loss: 0.9855 - accuracy: 0.7698 - val_loss: 2.7949 - val_accuracy: 0.3767\n",
      "Epoch 7/15\n",
      "430/430 [==============================] - 1s 3ms/step - loss: 0.7127 - accuracy: 0.8488 - val_loss: 2.6978 - val_accuracy: 0.3837\n",
      "Epoch 8/15\n",
      "430/430 [==============================] - 1s 3ms/step - loss: 0.5141 - accuracy: 0.9023 - val_loss: 2.8979 - val_accuracy: 0.3721\n",
      "Epoch 9/15\n",
      "430/430 [==============================] - 2s 4ms/step - loss: 0.4416 - accuracy: 0.9116 - val_loss: 2.9447 - val_accuracy: 0.4512\n",
      "Epoch 10/15\n",
      "430/430 [==============================] - 1s 3ms/step - loss: 0.3855 - accuracy: 0.9419 - val_loss: 3.2143 - val_accuracy: 0.4186\n",
      "Epoch 11/15\n",
      "430/430 [==============================] - 1s 3ms/step - loss: 0.3285 - accuracy: 0.9326 - val_loss: 3.0263 - val_accuracy: 0.4395\n",
      "Epoch 12/15\n",
      "430/430 [==============================] - 1s 3ms/step - loss: 0.1795 - accuracy: 0.9814 - val_loss: 2.8475 - val_accuracy: 0.5093\n",
      "Epoch 13/15\n",
      "430/430 [==============================] - 1s 3ms/step - loss: 0.1631 - accuracy: 0.9837 - val_loss: 3.4974 - val_accuracy: 0.4442\n",
      "Epoch 14/15\n",
      "430/430 [==============================] - 1s 3ms/step - loss: 0.1374 - accuracy: 0.9837 - val_loss: 3.1855 - val_accuracy: 0.4930\n",
      "Epoch 15/15\n",
      "430/430 [==============================] - 1s 3ms/step - loss: 0.0838 - accuracy: 0.9977 - val_loss: 3.3464 - val_accuracy: 0.4814\n"
     ]
    }
   ],
   "source": [
    "\n",
    "h = model.fit(data['x_train'][:540], data['y_train'][:540],\n",
    "              batch_size=5, epochs = epochs,\n",
    "              validation_data = (data['x_validation'], data['y_validation']),\n",
    "              callbacks=[annealer], verbose=1)"
   ]
  },
  {
   "cell_type": "code",
   "execution_count": 178,
   "metadata": {},
   "outputs": [
    {
     "name": "stdout",
     "output_type": "stream",
     "text": [
      "Confusion Matrix\n",
      "[[1 1 0 ... 0 0 0]\n",
      " [2 2 1 ... 0 0 0]\n",
      " [1 2 1 ... 0 0 0]\n",
      " ...\n",
      " [0 4 0 ... 5 0 0]\n",
      " [0 0 0 ... 0 1 3]\n",
      " [0 0 0 ... 1 1 8]]\n",
      "Classification Report\n",
      "              precision    recall  f1-score   support\n",
      "\n",
      "           0       0.25      0.10      0.14        10\n",
      "           1       0.12      0.20      0.15        10\n",
      "           2       0.33      0.10      0.15        10\n",
      "           3       0.25      0.50      0.33        10\n",
      "           4       0.33      0.60      0.43        10\n",
      "           5       0.36      0.50      0.42        10\n",
      "           6       0.78      0.70      0.74        10\n",
      "           7       0.00      0.00      0.00        10\n",
      "           8       0.24      0.50      0.32        10\n",
      "           9       0.25      0.10      0.14        10\n",
      "          10       0.75      0.60      0.67        10\n",
      "          11       1.00      0.50      0.67        10\n",
      "          12       1.00      0.70      0.82        10\n",
      "          13       0.89      0.80      0.84        10\n",
      "          14       0.69      0.90      0.78        10\n",
      "          15       0.73      0.80      0.76        10\n",
      "          16       0.75      0.60      0.67        10\n",
      "          17       1.00      0.80      0.89        10\n",
      "          18       0.17      0.30      0.21        10\n",
      "          19       0.86      0.60      0.71        10\n",
      "          20       0.18      0.30      0.22        10\n",
      "          21       0.00      0.00      0.00        10\n",
      "          22       0.71      0.50      0.59        10\n",
      "          23       0.00      0.00      0.00        10\n",
      "          24       0.00      0.00      0.00        10\n",
      "          25       0.18      0.20      0.19        10\n",
      "          26       0.82      0.90      0.86        10\n",
      "          27       0.14      0.20      0.17        10\n",
      "          28       0.23      0.30      0.26        10\n",
      "          29       0.00      0.00      0.00        10\n",
      "          30       0.73      0.80      0.76        10\n",
      "          31       0.75      0.90      0.82        10\n",
      "          32       0.40      0.60      0.48        10\n",
      "          33       0.54      0.70      0.61        10\n",
      "          34       0.56      0.90      0.69        10\n",
      "          35       0.69      0.90      0.78        10\n",
      "          36       0.83      0.50      0.62        10\n",
      "          37       0.00      0.00      0.00        10\n",
      "          38       0.82      0.90      0.86        10\n",
      "          39       0.80      0.80      0.80        10\n",
      "          40       0.71      0.50      0.59        10\n",
      "          41       0.50      0.10      0.17        10\n",
      "          42       0.47      0.80      0.59        10\n",
      "\n",
      "    accuracy                           0.48       430\n",
      "   macro avg       0.48      0.48      0.46       430\n",
      "weighted avg       0.48      0.48      0.46       430\n",
      "\n"
     ]
    },
    {
     "name": "stderr",
     "output_type": "stream",
     "text": [
      "//anaconda3/lib/python3.7/site-packages/sklearn/metrics/classification.py:1437: UndefinedMetricWarning: Precision and F-score are ill-defined and being set to 0.0 in labels with no predicted samples.\n",
      "  'precision', 'predicted', average, warn_for)\n"
     ]
    }
   ],
   "source": [
    "import numpy as np\n",
    "from sklearn.metrics import confusion_matrix\n",
    "from sklearn.metrics import classification_report\n",
    "Y_pred = model.predict(data['x_validation'])\n",
    "y_pred = np.argmax(Y_pred, axis=1)\n",
    "y_val = np.argmax(data['y_validation'],axis=1)\n",
    "print('Confusion Matrix')\n",
    "print(confusion_matrix(y_val, y_pred))\n",
    "print('Classification Report')\n",
    "#target_names = ['Cats', 'Dogs', 'Horse']\n",
    "print(classification_report(y_val, y_pred))"
   ]
  },
  {
   "cell_type": "code",
   "execution_count": 179,
   "metadata": {},
   "outputs": [],
   "source": [
    "from itertools import cycle\n",
    "from sklearn.metrics import roc_curve, auc\n",
    "from sklearn.preprocessing import label_binarize\n",
    "from sklearn.multiclass import OneVsRestClassifier\n",
    "from scipy import interp\n",
    "import matplotlib.pyplot as plt"
   ]
  },
  {
   "cell_type": "code",
   "execution_count": 180,
   "metadata": {},
   "outputs": [],
   "source": [
    "fpr = dict()\n",
    "tpr = dict()\n",
    "roc_auc = dict()\n",
    "for i in range(43):\n",
    "    fpr[i], tpr[i], _ = roc_curve(data['y_validation'][:,i], Y_pred[:,i])\n",
    "    roc_auc[i] = auc(fpr[i], tpr[i])\n",
    "\n",
    "# Compute micro-average ROC curve and ROC area\n",
    "fpr[\"micro\"], tpr[\"micro\"], _ = roc_curve(data['y_validation'].ravel(), Y_pred.ravel())\n",
    "roc_auc[\"micro\"] = auc(fpr[\"micro\"], tpr[\"micro\"])"
   ]
  },
  {
   "cell_type": "code",
   "execution_count": 181,
   "metadata": {},
   "outputs": [
    {
     "data": {
      "image/png": "[encoded data removed]",
      "text/plain": [
       "<Figure size 432x288 with 1 Axes>"
      ]
     },
     "metadata": {
      "needs_background": "light"
     },
     "output_type": "display_data"
    }
   ],
   "source": [
    "all_fpr = np.unique(np.concatenate([fpr[i] for i in range(43)]))\n",
    "\n",
    "# Then interpolate all ROC curves at this points\n",
    "mean_tpr = np.zeros_like(all_fpr)\n",
    "for i in range(43):\n",
    "    mean_tpr += interp(all_fpr, fpr[i], tpr[i])\n",
    "\n",
    "# Finally average it and compute AUC\n",
    "mean_tpr /= 43\n",
    "\n",
    "fpr[\"macro\"] = all_fpr\n",
    "tpr[\"macro\"] = mean_tpr\n",
    "roc_auc[\"macro\"] = auc(fpr[\"macro\"], tpr[\"macro\"])\n",
    "\n",
    "# Plot all ROC curves\n",
    "plt.figure()\n",
    "plt.plot(fpr[\"micro\"], tpr[\"micro\"],\n",
    "         label='micro-average ROC curve (area = {0:0.2f})'\n",
    "               ''.format(roc_auc[\"micro\"]),\n",
    "         color='deeppink', linestyle=':', linewidth=4)\n",
    "\n",
    "'''\n",
    "plt.plot(fpr[\"macro\"], tpr[\"macro\"],\n",
    "         label='macro-average ROC curve (area = {0:0.2f})'\n",
    "               ''.format(roc_auc[\"macro\"]),\n",
    "         color='navy', linestyle=':', linewidth=4)\n",
    "'''\n",
    "'''\n",
    "colors = cycle(['aqua', 'darkorange', 'cornflowerblue'])\n",
    "for i, color in zip(range(43), colors):\n",
    "    plt.plot(fpr[i], tpr[i], color=color, lw=lw,\n",
    "             label='ROC curve of class {0} (area = {1:0.2f})'\n",
    "             ''.format(i, roc_auc[i]))\n",
    "    '''\n",
    "\n",
    "plt.plot([0, 1], [0, 1], 'k--')\n",
    "plt.xlim([0.0, 1.0])\n",
    "plt.ylim([0.0, 1.05])\n",
    "plt.xlabel('False Positive Rate')\n",
    "plt.ylabel('True Positive Rate')\n",
    "plt.title('Some extension of Receiver operating characteristic to multi-class')\n",
    "plt.legend(loc=\"lower right\")\n",
    "plt.show()"
   ]
  },
  {
   "cell_type": "code",
   "execution_count": 182,
   "metadata": {},
   "outputs": [
    {
     "name": "stdout",
     "output_type": "stream",
     "text": [
      "Average precision score, micro-averaged over all classes: 0.47\n"
     ]
    }
   ],
   "source": [
    "from sklearn.metrics import precision_recall_curve\n",
    "from sklearn.metrics import average_precision_score\n",
    "\n",
    "# For each class\n",
    "precision = dict()\n",
    "recall = dict()\n",
    "average_precision = dict()\n",
    "for i in range(43):\n",
    "    precision[i], recall[i], _ = precision_recall_curve(data['y_validation'][:,i], Y_pred[:,i])\n",
    "    average_precision[i] = average_precision_score(data['y_validation'][:,i], Y_pred[:,i])\n",
    "\n",
    "# A \"micro-average\": quantifying score on all classes jointly\n",
    "precision[\"micro\"], recall[\"micro\"], _ = precision_recall_curve(data['y_validation'].ravel(),\n",
    "    Y_pred.ravel())\n",
    "average_precision[\"micro\"] = average_precision_score(data['y_validation'], Y_pred,\n",
    "                                                     average=\"micro\")\n",
    "print('Average precision score, micro-averaged over all classes: {0:0.2f}'\n",
    "      .format(average_precision[\"micro\"]))"
   ]
  },
  {
   "cell_type": "code",
   "execution_count": 166,
   "metadata": {},
   "outputs": [
    {
     "data": {
      "text/plain": [
       "Text(0.5, 1.0, 'Average precision score, micro-averaged over all classes: AP=0.33')"
      ]
     },
     "execution_count": 166,
     "metadata": {},
     "output_type": "execute_result"
    },
    {
     "data": {
      "image/png": "[encoded data removed]",
      "text/plain": [
       "<Figure size 432x288 with 1 Axes>"
      ]
     },
     "metadata": {
      "needs_background": "light"
     },
     "output_type": "display_data"
    }
   ],
   "source": [
    "from inspect import signature\n",
    "# In matplotlib < 1.5, plt.fill_between does not have a 'step' argument\n",
    "step_kwargs = ({'step': 'post'}\n",
    "               if 'step' in signature(plt.fill_between).parameters\n",
    "               else {})\n",
    "\n",
    "\n",
    "plt.figure()\n",
    "plt.step(recall['micro'], precision['micro'], color='b', alpha=0.2,\n",
    "         where='post')\n",
    "plt.fill_between(recall[\"micro\"], precision[\"micro\"], alpha=0.2, color='b',\n",
    "                 **step_kwargs)\n",
    "\n",
    "plt.xlabel('Recall')\n",
    "plt.ylabel('Precision')\n",
    "plt.ylim([0.0, 1.05])\n",
    "plt.xlim([0.0, 1.0])\n",
    "plt.title(\n",
    "    'Average precision score, micro-averaged over all classes: AP={0:0.2f}'\n",
    "    .format(average_precision[\"micro\"]))"
   ]
  },
  {
   "cell_type": "code",
   "execution_count": null,
   "metadata": {},
   "outputs": [],
   "source": []
  }
 ],
 "metadata": {
  "kernelspec": {
   "display_name": "Python 3",
   "language": "python",
   "name": "python3"
  },
  "language_info": {
   "codemirror_mode": {
    "name": "ipython",
    "version": 3
   },
   "file_extension": ".py",
   "mimetype": "text/x-python",
   "name": "python",
   "nbconvert_exporter": "python",
   "pygments_lexer": "ipython3",
   "version": "3.7.3"
  }
 },
 "nbformat": 4,
 "nbformat_minor": 2
}
