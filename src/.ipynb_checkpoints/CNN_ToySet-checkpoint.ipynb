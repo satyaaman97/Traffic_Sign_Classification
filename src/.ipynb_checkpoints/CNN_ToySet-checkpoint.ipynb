{
 "cells": [
  {
   "cell_type": "code",
   "execution_count": 1,
   "metadata": {},
   "outputs": [
    {
     "name": "stderr",
     "output_type": "stream",
     "text": [
      "Using TensorFlow backend.\n"
     ]
    }
   ],
   "source": [
    "import keras"
   ]
  },
  {
   "cell_type": "code",
   "execution_count": 2,
   "metadata": {},
   "outputs": [],
   "source": [
    "from keras.models import Sequential\n"
   ]
  },
  {
   "cell_type": "code",
   "execution_count": 3,
   "metadata": {},
   "outputs": [],
   "source": [
    "from keras.utils.np_utils import to_categorical\n",
    "from keras.layers import Dense, Dropout, Flatten, Conv2D, MaxPool2D, AvgPool2D, BatchNormalization, Reshape"
   ]
  },
  {
   "cell_type": "code",
   "execution_count": 4,
   "metadata": {},
   "outputs": [],
   "source": [
    "from keras.preprocessing.image import ImageDataGenerator"
   ]
  },
  {
   "cell_type": "code",
   "execution_count": 5,
   "metadata": {},
   "outputs": [],
   "source": [
    "from keras.callbacks import LearningRateScheduler"
   ]
  },
  {
   "cell_type": "code",
   "execution_count": 6,
   "metadata": {},
   "outputs": [],
   "source": [
    "model = Sequential()\n",
    "model.add(Conv2D(32, kernel_size=3, padding='same', activation='relu', input_shape=(32, 32, 1)))\n",
    "model.add(MaxPool2D(pool_size=2))\n",
    "model.add(Flatten())\n",
    "model.add(Dense(500, activation='relu'))\n",
    "model.add(Dense(43, activation='softmax'))\n",
    "model.compile(optimizer='adam', loss='categorical_crossentropy', metrics=['accuracy'])"
   ]
  },
  {
   "cell_type": "code",
   "execution_count": 7,
   "metadata": {},
   "outputs": [],
   "source": [
    "annealer = LearningRateScheduler(lambda x: 1e-3 * 0.95 ** (x + epochs))\n",
    "epochs = 15"
   ]
  },
  {
   "cell_type": "code",
   "execution_count": 8,
   "metadata": {},
   "outputs": [],
   "source": [
    "import pickle"
   ]
  },
  {
   "cell_type": "code",
   "execution_count": 9,
   "metadata": {},
   "outputs": [],
   "source": [
    "with open('ToySet1.pickle', 'rb') as f:\n",
    "    data = pickle.load(f, encoding='latin1')"
   ]
  },
  {
   "cell_type": "code",
   "execution_count": 10,
   "metadata": {},
   "outputs": [
    {
     "name": "stdout",
     "output_type": "stream",
     "text": [
      "x_train: (540, 32, 32, 1)\n",
      "y_train: (540, 43)\n",
      "x_validation: (90, 32, 32, 1)\n",
      "y_validation: (90, 43)\n",
      "x_test: (180, 32, 32, 1)\n",
      "y_test: (180,)\n",
      "labels: 43\n"
     ]
    }
   ],
   "source": [
    "\n",
    "data['y_train'] = to_categorical(data['y_train'], num_classes=43)\n",
    "data['y_validation'] = to_categorical(data['y_validation'], num_classes=43)\n",
    "\n",
    "# Making channels come at the end\n",
    "data['x_train'] = data['x_train'].transpose(0, 2, 3, 1)\n",
    "data['x_validation'] = data['x_validation'].transpose(0, 2, 3, 1)\n",
    "data['x_test'] = data['x_test'].transpose(0, 2, 3, 1)\n",
    "\n",
    "# Showing loaded data from file\n",
    "for i, j in data.items():\n",
    "    if i == 'labels':\n",
    "        print(i + ':', len(j))\n",
    "    else: \n",
    "        print(i + ':', j.shape)"
   ]
  },
  {
   "cell_type": "code",
   "execution_count": null,
   "metadata": {},
   "outputs": [
    {
     "name": "stdout",
     "output_type": "stream",
     "text": [
      "Train on 10 samples, validate on 90 samples\n",
      "Epoch 1/15\n",
      "10/10 [==============================] - 0s 22ms/step - loss: 0.0215 - accuracy: 1.0000 - val_loss: 8.2490 - val_accuracy: 0.6667\n",
      "Epoch 2/15\n",
      "10/10 [==============================] - 0s 21ms/step - loss: 0.4500 - accuracy: 0.9000 - val_loss: 9.1805 - val_accuracy: 0.6556\n",
      "Epoch 3/15\n",
      "10/10 [==============================] - 0s 27ms/step - loss: 0.2417 - accuracy: 0.9000 - val_loss: 5.3871 - val_accuracy: 0.6556\n",
      "Epoch 4/15\n",
      "10/10 [==============================] - 0s 26ms/step - loss: 6.7722e-04 - accuracy: 1.0000 - val_loss: 3.6644 - val_accuracy: 0.8222\n",
      "Epoch 5/15\n",
      "10/10 [==============================] - 0s 28ms/step - loss: 3.0727e-05 - accuracy: 1.0000 - val_loss: 4.6434 - val_accuracy: 0.8778\n",
      "Epoch 6/15\n",
      "10/10 [==============================] - 0s 22ms/step - loss: 2.3842e-08 - accuracy: 1.0000 - val_loss: 6.8380 - val_accuracy: 0.8222\n",
      "Epoch 7/15\n",
      "10/10 [==============================] - 0s 30ms/step - loss: 0.0000e+00 - accuracy: 1.0000 - val_loss: 8.9266 - val_accuracy: 0.8222\n",
      "Epoch 8/15\n",
      "10/10 [==============================] - 0s 26ms/step - loss: 0.0000e+00 - accuracy: 1.0000 - val_loss: 10.6648 - val_accuracy: 0.8111\n",
      "Epoch 9/15\n",
      "10/10 [==============================] - 0s 21ms/step - loss: 0.0000e+00 - accuracy: 1.0000 - val_loss: 12.2680 - val_accuracy: 0.7556\n",
      "Epoch 10/15\n",
      "10/10 [==============================] - 0s 21ms/step - loss: 0.0000e+00 - accuracy: 1.0000 - val_loss: 13.6196 - val_accuracy: 0.7556\n",
      "Epoch 11/15\n",
      "10/10 [==============================] - 0s 29ms/step - loss: 0.0000e+00 - accuracy: 1.0000 - val_loss: 14.6968 - val_accuracy: 0.7556\n",
      "Epoch 12/15\n",
      " 5/10 [==============>...............] - ETA: 0s - loss: 0.0000e+00 - accuracy: 1.0000"
     ]
    }
   ],
   "source": [
    "h = model.fit(data['x_train'][:10], data['y_train'][:10],\n",
    "              batch_size=5, epochs = epochs,\n",
    "              validation_data = (data['x_validation'], data['y_validation']),\n",
    "              callbacks=[annealer], verbose=1)"
   ]
  },
  {
   "cell_type": "code",
   "execution_count": null,
   "metadata": {},
   "outputs": [],
   "source": []
  }
 ],
 "metadata": {
  "kernelspec": {
   "display_name": "Python 3",
   "language": "python",
   "name": "python3"
  },
  "language_info": {
   "codemirror_mode": {
    "name": "ipython",
    "version": 3
   },
   "file_extension": ".py",
   "mimetype": "text/x-python",
   "name": "python",
   "nbconvert_exporter": "python",
   "pygments_lexer": "ipython3",
   "version": "3.7.3"
  }
 },
 "nbformat": 4,
 "nbformat_minor": 2
}
