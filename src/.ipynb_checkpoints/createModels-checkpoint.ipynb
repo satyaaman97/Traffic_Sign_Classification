{
 "cells": [
  {
   "cell_type": "code",
   "execution_count": 1,
   "metadata": {},
   "outputs": [
    {
     "name": "stderr",
     "output_type": "stream",
     "text": [
      "Using TensorFlow backend.\n"
     ]
    }
   ],
   "source": [
    "import keras\n",
    "from keras.models import Sequential\n",
    "from keras.utils.np_utils import to_categorical\n",
    "from keras.preprocessing.image import ImageDataGenerator\n",
    "from keras.callbacks import LearningRateScheduler\n",
    "from keras.layers import Dense, Dropout, Activation, Flatten, Conv2D, MaxPool2D, AvgPool2D, BatchNormalization, Reshape"
   ]
  },
  {
   "cell_type": "code",
   "execution_count": 2,
   "metadata": {},
   "outputs": [
    {
     "name": "stdout",
     "output_type": "stream",
     "text": [
      "x_train: (540, 32, 32, 3)\n",
      "y_train: (540, 43)\n",
      "x_validation: (90, 32, 32, 3)\n",
      "y_validation: (90, 43)\n",
      "x_test: (180, 32, 32, 3)\n",
      "y_test: (180, 43)\n",
      "labels: 43\n"
     ]
    }
   ],
   "source": [
    "# Show some metadata of the dataset.\n",
    "import pickle\n",
    "\n",
    "# ***** You can change the dataset name here to train with different dataset ******\n",
    "with open('ToySet_rgb.pickle', 'rb') as f:\n",
    "    data = pickle.load(f, encoding='latin1')\n",
    "\n",
    "\n",
    "data['y_train'] = to_categorical(data['y_train'], num_classes=43)\n",
    "data['y_validation'] = to_categorical(data['y_validation'], num_classes=43)\n",
    "data['y_test'] = to_categorical(data['y_test'], num_classes=43)\n",
    "\n",
    "# Making channels come at the end\n",
    "data['x_train'] = data['x_train'].transpose(0, 2, 3, 1)\n",
    "data['x_validation'] = data['x_validation'].transpose(0, 2, 3, 1)\n",
    "data['x_test'] = data['x_test'].transpose(0, 2, 3, 1)\n",
    "\n",
    "# Showing loaded data from file\n",
    "for i, j in data.items():\n",
    "    if i == 'labels':\n",
    "        print(i + ':', len(j))\n",
    "    else: \n",
    "        print(i + ':', j.shape)"
   ]
  },
  {
   "cell_type": "code",
   "execution_count": 3,
   "metadata": {},
   "outputs": [],
   "source": [
    "# Model 1\n",
    "model = Sequential()\n",
    "model.add(Conv2D(32, kernel_size=3, padding='same', activation='relu', input_shape=(32, 32, 3)))\n",
    "model.add(MaxPool2D(pool_size=2))\n",
    "model.add(Flatten())\n",
    "model.add(Dense(500, activation='relu'))\n",
    "model.add(Dense(43, activation='softmax'))\n",
    "model.compile(optimizer='adam', loss='categorical_crossentropy', metrics=['accuracy'])\n",
    "\n",
    "# -------------------------------------------------------------------------------------------------------------\n",
    "# Model 2 (Uncomment the code to create model 2)\n",
    "\n",
    "# model = Sequential()\n",
    "# model.add(Conv2D(32, (3, 3),activation='relu', input_shape=(32,32,3)))\n",
    "# model.add(MaxPool2D(pool_size=2))\n",
    "# model.add(Conv2D(32, (3, 3),activation='relu'))\n",
    "# model.add(MaxPool2D(pool_size=2))\n",
    "# model.add(Conv2D(64, (3, 3),activation='relu'))\n",
    "# model.add(MaxPool2D(pool_size=2))\n",
    "# model.add(Flatten()) \n",
    "# model.add(Dense(500))\n",
    "# model.add(Activation('relu'))\n",
    "# model.add(Dense(43))\n",
    "# model.add(Activation('softmax'))\n",
    "# model.compile(optimizer='adam', loss='categorical_crossentropy', metrics=['accuracy'])\n",
    "\n",
    "# -------------------------------------------------------------------------------------------------------------------\n",
    "# Model 3 (Uncomment the code to create model 3)\n",
    "\n",
    "# model = Sequential()\n",
    "# model.add(Conv2D(32, (3, 3), border_mode='same',\n",
    "#                           input_shape=(32,32,3)))\n",
    "# model.add(Activation('relu'))\n",
    "# model.add(Conv2D(32, 3, 3))\n",
    "# model.add(Activation('relu'))\n",
    "# model.add(MaxPool2D(pool_size=2))\n",
    "# #model.add(Dropout(0.5))  \n",
    "#   # Add another convolution layer:\n",
    "# model.add(Conv2D(64, 3, 3, border_mode='same'))\n",
    "# model.add(Activation('relu'))\n",
    "#   # And yet another:\n",
    "# model.add(Conv2D(64, 3, 3))\n",
    "# model.add(Activation('relu'))\n",
    "# model.add(MaxPool2D(pool_size=2))\n",
    "# #model.add(Dropout(0.5)) \n",
    "#   # Add a fully-connected layer:\n",
    "# model.add(Flatten())\n",
    "# model.add(Dense(500))\n",
    "# model.add(Activation('relu'))\n",
    "# model.add(Dropout(0.5))\n",
    "#   # Add a final softmax output layer:\n",
    "# model.add(Dense(43))\n",
    "# model.add(Activation('softmax'))\n",
    "# model.compile(optimizer='adam', loss='categorical_crossentropy', metrics=['accuracy'])"
   ]
  },
  {
   "cell_type": "code",
   "execution_count": 4,
   "metadata": {},
   "outputs": [
    {
     "name": "stdout",
     "output_type": "stream",
     "text": [
      "Train on 540 samples, validate on 90 samples\n",
      "Epoch 1/5\n",
      "540/540 [==============================] - 3s 5ms/step - loss: 0.2384 - accuracy: 0.9370 - val_loss: 0.3566 - val_accuracy: 0.8889\n",
      "Epoch 2/5\n",
      "540/540 [==============================] - 1s 1ms/step - loss: 0.0114 - accuracy: 0.9981 - val_loss: 0.0136 - val_accuracy: 1.0000\n",
      "Epoch 3/5\n",
      "540/540 [==============================] - 1s 1ms/step - loss: 0.0023 - accuracy: 1.0000 - val_loss: 0.0338 - val_accuracy: 0.9778\n",
      "Epoch 4/5\n",
      "540/540 [==============================] - 1s 1ms/step - loss: 0.0013 - accuracy: 1.0000 - val_loss: 0.0337 - val_accuracy: 0.9778\n",
      "Epoch 5/5\n",
      "540/540 [==============================] - 1s 1ms/step - loss: 9.3230e-04 - accuracy: 1.0000 - val_loss: 0.0321 - val_accuracy: 0.9778\n"
     ]
    }
   ],
   "source": [
    "# set some hyperparameters\n",
    "annealer = LearningRateScheduler(lambda x: 1e-3 * 0.95 ** (x + epochs))\n",
    "epochs = 5\n",
    "\n",
    "# train the model\n",
    "h = model.fit(data['x_train'], data['y_train'],\n",
    "              batch_size=5, epochs = epochs,\n",
    "              validation_data = (data['x_validation'], data['y_validation']),\n",
    "              callbacks=[annealer], verbose=1)"
   ]
  },
  {
   "cell_type": "code",
   "execution_count": 5,
   "metadata": {},
   "outputs": [],
   "source": [
    "# After tranining the model, we can store the model as a .h5 file.\n",
    "# ***** You can change the model name here to distinguish different dataset&model you used ******\n",
    "model.save('ToySet_rgb1.h5')"
   ]
  },
  {
   "cell_type": "code",
   "execution_count": 6,
   "metadata": {},
   "outputs": [
    {
     "name": "stdout",
     "output_type": "stream",
     "text": [
      "Epochs=5, training accuracy=1.00000, validation accuracy=1.00000\n"
     ]
    }
   ],
   "source": [
    "# print some results\n",
    "print('Epochs={0:d}, training accuracy={1:.5f}, validation accuracy={2:.5f}'.\\\n",
    "      format(epochs, max(h.history['accuracy']), max(h.history['val_accuracy'])))"
   ]
  },
  {
   "cell_type": "code",
   "execution_count": 7,
   "metadata": {},
   "outputs": [
    {
     "data": {
      "image/png": "[encoded data removed]",
      "text/plain": [
       "<Figure size 1080x360 with 1 Axes>"
      ]
     },
     "metadata": {
      "needs_background": "light"
     },
     "output_type": "display_data"
    }
   ],
   "source": [
    "import matplotlib.pyplot as plt\n",
    "%matplotlib inline\n",
    "#  plot some basic accuracy of this modekl during training.\n",
    "\n",
    "plt.rcParams['figure.figsize'] = (15.0, 5.0) # Setting default size of plots\n",
    "plt.rcParams['image.interpolation'] = 'nearest'\n",
    "plt.rcParams['font.family'] = 'Times New Roman'\n",
    "\n",
    "fig = plt.figure()\n",
    "plt.plot(h.history['accuracy'], '-o', linewidth=3.0)\n",
    "plt.plot(h.history['val_accuracy'], '-o', linewidth=3.0)\n",
    "plt.title('Training With BorderlineSMOTE_rgb Data', fontsize=22)\n",
    "plt.legend(['train', 'validation'], loc='upper left', fontsize='xx-large')\n",
    "plt.xlabel('Epoch', fontsize=20)\n",
    "plt.ylabel('Accuracy', fontsize=20)\n",
    "plt.tick_params(labelsize=18)\n",
    "\n",
    "# Showing the plot\n",
    "plt.show()\n",
    "plt.close()"
   ]
  }
 ],
 "metadata": {
  "kernelspec": {
   "display_name": "Python 3",
   "language": "python",
   "name": "python3"
  },
  "language_info": {
   "codemirror_mode": {
    "name": "ipython",
    "version": 3
   },
   "file_extension": ".py",
   "mimetype": "text/x-python",
   "name": "python",
   "nbconvert_exporter": "python",
   "pygments_lexer": "ipython3",
   "version": "3.7.4"
  }
 },
 "nbformat": 4,
 "nbformat_minor": 4
}
