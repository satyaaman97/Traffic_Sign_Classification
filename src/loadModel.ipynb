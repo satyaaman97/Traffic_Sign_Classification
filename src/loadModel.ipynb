{
 "cells": [
  {
   "cell_type": "code",
   "execution_count": 1,
   "metadata": {},
   "outputs": [
    {
     "name": "stderr",
     "output_type": "stream",
     "text": [
      "Using TensorFlow backend.\n"
     ]
    }
   ],
   "source": [
    "import keras\n",
    "from keras.models import Sequential, load_model\n",
    "from keras.utils.np_utils import to_categorical\n",
    "from keras.preprocessing.image import ImageDataGenerator\n",
    "from keras.callbacks import LearningRateScheduler\n",
    "from keras.layers import Dense, Dropout, Activation, Flatten, Conv2D, MaxPool2D, AvgPool2D, BatchNormalization, Reshape"
   ]
  },
  {
   "cell_type": "code",
   "execution_count": 13,
   "metadata": {},
   "outputs": [],
   "source": [
    "# change your model here\n",
    "model = load_model('BorderlineSMOTE2.h5')"
   ]
  },
  {
   "cell_type": "code",
   "execution_count": 3,
   "metadata": {},
   "outputs": [
    {
     "name": "stdout",
     "output_type": "stream",
     "text": [
      "x_train: (86430, 32, 32, 3)\n",
      "y_train: (86430, 43)\n",
      "x_validation: (4410, 32, 32, 3)\n",
      "y_validation: (4410, 43)\n",
      "x_test: (12630, 32, 32, 3)\n",
      "y_test: (12630, 43)\n",
      "labels: 43\n"
     ]
    }
   ],
   "source": [
    "import pickle\n",
    "\n",
    "with open('BorderlineSMOTE_rgb.pickle', 'rb') as f:\n",
    "    data = pickle.load(f, encoding='latin1')\n",
    "\n",
    "\n",
    "data['y_train'] = to_categorical(data['y_train'], num_classes=43)\n",
    "data['y_validation'] = to_categorical(data['y_validation'], num_classes=43)\n",
    "data['y_test'] = to_categorical(data['y_test'], num_classes=43)\n",
    "\n",
    "# Making channels come at the end\n",
    "data['x_train'] = data['x_train'].transpose(0, 2, 3, 1)\n",
    "data['x_validation'] = data['x_validation'].transpose(0, 2, 3, 1)\n",
    "data['x_test'] = data['x_test'].transpose(0, 2, 3, 1)\n",
    "\n",
    "# Showing loaded data from file\n",
    "for i, j in data.items():\n",
    "    if i == 'labels':\n",
    "        print(i + ':', len(j))\n",
    "    else: \n",
    "        print(i + ':', j.shape)"
   ]
  },
  {
   "cell_type": "code",
   "execution_count": 4,
   "metadata": {},
   "outputs": [
    {
     "name": "stdout",
     "output_type": "stream",
     "text": [
      "Confusion Matrix\n",
      "[[ 51   1   0 ...   0   0   0]\n",
      " [  1 697   2 ...   0   0   0]\n",
      " [  1  24 696 ...   0   0   1]\n",
      " ...\n",
      " [  0   0   0 ...  87   0   0]\n",
      " [  0   0   0 ...   0  56   0]\n",
      " [  0   0   0 ...   0   1  87]]\n",
      "Classification Report\n",
      "              precision    recall  f1-score   support\n",
      "\n",
      "           0       0.88      0.85      0.86        60\n",
      "           1       0.95      0.97      0.96       720\n",
      "           2       0.96      0.93      0.94       750\n",
      "           3       0.92      0.89      0.90       450\n",
      "           4       0.95      0.93      0.94       660\n",
      "           5       0.78      0.93      0.84       630\n",
      "           6       0.99      0.79      0.88       150\n",
      "           7       0.96      0.79      0.87       450\n",
      "           8       0.89      0.90      0.89       450\n",
      "           9       0.96      0.99      0.97       480\n",
      "          10       0.99      0.98      0.98       660\n",
      "          11       0.86      0.93      0.89       420\n",
      "          12       0.99      0.97      0.98       690\n",
      "          13       0.99      1.00      0.99       720\n",
      "          14       1.00      0.96      0.98       270\n",
      "          15       0.91      1.00      0.95       210\n",
      "          16       0.96      0.99      0.97       150\n",
      "          17       1.00      0.99      0.99       360\n",
      "          18       0.97      0.83      0.90       390\n",
      "          19       0.73      0.92      0.81        60\n",
      "          20       0.74      1.00      0.85        90\n",
      "          21       0.96      0.88      0.92        90\n",
      "          22       0.98      0.94      0.96       120\n",
      "          23       0.83      0.90      0.87       150\n",
      "          24       0.78      0.68      0.73        90\n",
      "          25       0.97      0.96      0.96       480\n",
      "          26       0.85      0.98      0.91       180\n",
      "          27       0.76      0.57      0.65        60\n",
      "          28       0.96      0.89      0.92       150\n",
      "          29       0.81      0.96      0.88        90\n",
      "          30       0.76      0.84      0.80       150\n",
      "          31       0.97      0.91      0.94       270\n",
      "          32       0.89      0.98      0.94        60\n",
      "          33       0.98      0.97      0.97       210\n",
      "          34       0.99      0.99      0.99       120\n",
      "          35       0.98      0.97      0.98       390\n",
      "          36       0.97      0.97      0.97       120\n",
      "          37       0.92      0.98      0.95        60\n",
      "          38       0.99      0.97      0.98       690\n",
      "          39       0.95      0.78      0.85        90\n",
      "          40       0.83      0.97      0.89        90\n",
      "          41       0.88      0.93      0.90        60\n",
      "          42       0.96      0.97      0.96        90\n",
      "\n",
      "    accuracy                           0.94     12630\n",
      "   macro avg       0.92      0.92      0.91     12630\n",
      "weighted avg       0.94      0.94      0.94     12630\n",
      "\n"
     ]
    }
   ],
   "source": [
    "from sklearn.datasets import make_classification\n",
    "from sklearn.linear_model import LogisticRegression\n",
    "from sklearn.model_selection import train_test_split\n",
    "from sklearn.metrics import precision_recall_curve\n",
    "from sklearn.metrics import f1_score\n",
    "from sklearn.metrics import auc\n",
    "from sklearn.metrics import confusion_matrix\n",
    "from sklearn.metrics import classification_report\n",
    "import numpy as np\n",
    "\n",
    "#Confution Matrix and Classification Report\n",
    "Y_pred = model.predict(data['x_test'])\n",
    "y_pred = np.argmax(Y_pred, axis=1)\n",
    "y_val = np.argmax(data['y_test'],axis=1)\n",
    "print('Confusion Matrix')\n",
    "print(confusion_matrix(y_val, y_pred))\n",
    "print('Classification Report')\n",
    "print(classification_report(y_val, y_pred))"
   ]
  },
  {
   "cell_type": "code",
   "execution_count": 5,
   "metadata": {},
   "outputs": [
    {
     "name": "stdout",
     "output_type": "stream",
     "text": [
      "test_accuracy:  0.9351543942992874\n"
     ]
    }
   ],
   "source": [
    "test_accuracy = np.mean(y_pred == y_val)\n",
    "print(\"test_accuracy: \", test_accuracy)"
   ]
  },
  {
   "cell_type": "code",
   "execution_count": 9,
   "metadata": {},
   "outputs": [],
   "source": [
    "from itertools import cycle\n",
    "from sklearn.metrics import roc_curve, auc\n",
    "from sklearn.preprocessing import label_binarize\n",
    "from sklearn.multiclass import OneVsRestClassifier\n",
    "from scipy import interp\n",
    "import matplotlib.pyplot as plt"
   ]
  },
  {
   "cell_type": "code",
   "execution_count": 7,
   "metadata": {},
   "outputs": [],
   "source": [
    "fpr = dict()\n",
    "tpr = dict()\n",
    "roc_auc = dict()\n",
    "for i in range(43):\n",
    "    fpr[i], tpr[i], _ = roc_curve(data['y_test'][:,i], Y_pred[:,i])\n",
    "    roc_auc[i] = auc(fpr[i], tpr[i])\n",
    "\n",
    "# Compute micro-average ROC curve and ROC area\n",
    "fpr[\"micro\"], tpr[\"micro\"], _ = roc_curve(data['y_test'].ravel(), Y_pred.ravel())\n",
    "roc_auc[\"micro\"] = auc(fpr[\"micro\"], tpr[\"micro\"])"
   ]
  },
  {
   "cell_type": "code",
   "execution_count": 10,
   "metadata": {},
   "outputs": [
    {
     "data": {
      "image/png": "[encoded data removed]",
      "text/plain": [
       "<Figure size 432x288 with 1 Axes>"
      ]
     },
     "metadata": {
      "needs_background": "light"
     },
     "output_type": "display_data"
    }
   ],
   "source": [
    "all_fpr = np.unique(np.concatenate([fpr[i] for i in range(43)]))\n",
    "\n",
    "# Then interpolate all ROC curves at this points\n",
    "mean_tpr = np.zeros_like(all_fpr)\n",
    "for i in range(43):\n",
    "    mean_tpr += interp(all_fpr, fpr[i], tpr[i])\n",
    "\n",
    "# Finally average it and compute AUC\n",
    "mean_tpr /= 43\n",
    "\n",
    "fpr[\"macro\"] = all_fpr\n",
    "tpr[\"macro\"] = mean_tpr\n",
    "roc_auc[\"macro\"] = auc(fpr[\"macro\"], tpr[\"macro\"])\n",
    "\n",
    "# Plot all ROC curves\n",
    "plt.figure()\n",
    "plt.plot(fpr[\"micro\"], tpr[\"micro\"],\n",
    "         label='micro-average ROC curve (area = {0:0.2f})'\n",
    "               ''.format(roc_auc[\"micro\"]),\n",
    "         color='deeppink', linestyle=':', linewidth=4)\n",
    "\n",
    "'''\n",
    "plt.plot(fpr[\"macro\"], tpr[\"macro\"],\n",
    "         label='macro-average ROC curve (area = {0:0.2f})'\n",
    "               ''.format(roc_auc[\"macro\"]),\n",
    "         color='navy', linestyle=':', linewidth=4)\n",
    "'''\n",
    "'''\n",
    "colors = cycle(['aqua', 'darkorange', 'cornflowerblue'])\n",
    "for i, color in zip(range(43), colors):\n",
    "    plt.plot(fpr[i], tpr[i], color=color, lw=lw,\n",
    "             label='ROC curve of class {0} (area = {1:0.2f})'\n",
    "             ''.format(i, roc_auc[i]))\n",
    "    '''\n",
    "\n",
    "plt.plot([0, 1], [0, 1], 'k--')\n",
    "plt.xlim([0.0, 1.0])\n",
    "plt.ylim([0.0, 1.05])\n",
    "plt.xlabel('False Positive Rate')\n",
    "plt.ylabel('True Positive Rate')\n",
    "plt.title('Some extension of Receiver operating characteristic to multi-class')\n",
    "plt.legend(loc=\"lower right\")\n",
    "plt.show()"
   ]
  },
  {
   "cell_type": "code",
   "execution_count": 11,
   "metadata": {},
   "outputs": [
    {
     "name": "stdout",
     "output_type": "stream",
     "text": [
      "Average precision score, micro-averaged over all classes: 0.98\n"
     ]
    }
   ],
   "source": [
    "from sklearn.metrics import precision_recall_curve\n",
    "from sklearn.metrics import average_precision_score\n",
    "\n",
    "# For each class\n",
    "precision = dict()\n",
    "recall = dict()\n",
    "average_precision = dict()\n",
    "for i in range(43):\n",
    "    precision[i], recall[i], _ = precision_recall_curve(data['y_test'][:,i], Y_pred[:,i])\n",
    "    average_precision[i] = average_precision_score(data['y_test'][:,i], Y_pred[:,i])\n",
    "\n",
    "# A \"micro-average\": quantifying score on all classes jointly\n",
    "precision[\"micro\"], recall[\"micro\"], _ = precision_recall_curve(data['y_test'].ravel(),\n",
    "    Y_pred.ravel())\n",
    "average_precision[\"micro\"] = average_precision_score(data['y_test'], Y_pred,\n",
    "                                                     average=\"micro\")\n",
    "print('Average precision score, micro-averaged over all classes: {0:0.2f}'\n",
    "      .format(average_precision[\"micro\"]))"
   ]
  },
  {
   "cell_type": "code",
   "execution_count": 12,
   "metadata": {},
   "outputs": [
    {
     "data": {
      "text/plain": [
       "Text(0.5, 1.0, 'Average precision score, micro-averaged over all classes: AP=0.98')"
      ]
     },
     "execution_count": 12,
     "metadata": {},
     "output_type": "execute_result"
    },
    {
     "data": {
      "image/png": "[encoded data removed]",
      "text/plain": [
       "<Figure size 432x288 with 1 Axes>"
      ]
     },
     "metadata": {
      "needs_background": "light"
     },
     "output_type": "display_data"
    }
   ],
   "source": [
    "from inspect import signature\n",
    "# In matplotlib < 1.5, plt.fill_between does not have a 'step' argument\n",
    "step_kwargs = ({'step': 'post'}\n",
    "               if 'step' in signature(plt.fill_between).parameters\n",
    "               else {})\n",
    "\n",
    "\n",
    "plt.figure()\n",
    "plt.step(recall['micro'], precision['micro'], color='b', alpha=0.2,\n",
    "         where='post')\n",
    "plt.fill_between(recall[\"micro\"], precision[\"micro\"], alpha=0.2, color='b',\n",
    "                 **step_kwargs)\n",
    "\n",
    "plt.xlabel('Recall')\n",
    "plt.ylabel('Precision')\n",
    "plt.ylim([0.0, 1.05])\n",
    "plt.xlim([0.0, 1.0])\n",
    "plt.title(\n",
    "    'Average precision score, micro-averaged over all classes: AP={0:0.2f}'\n",
    "    .format(average_precision[\"micro\"]))"
   ]
  }
 ],
 "metadata": {
  "kernelspec": {
   "display_name": "Python 3",
   "language": "python",
   "name": "python3"
  },
  "language_info": {
   "codemirror_mode": {
    "name": "ipython",
    "version": 3
   },
   "file_extension": ".py",
   "mimetype": "text/x-python",
   "name": "python",
   "nbconvert_exporter": "python",
   "pygments_lexer": "ipython3",
   "version": "3.7.5"
  }
 },
 "nbformat": 4,
 "nbformat_minor": 4
}
