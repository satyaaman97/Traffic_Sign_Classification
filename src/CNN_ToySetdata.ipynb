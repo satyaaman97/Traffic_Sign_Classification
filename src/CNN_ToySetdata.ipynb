{
 "cells": [
  {
   "cell_type": "code",
   "execution_count": 4,
   "metadata": {},
   "outputs": [
    {
     "ename": "ModuleNotFoundError",
     "evalue": "No module named 'keras'",
     "output_type": "error",
     "traceback": [
      "\u001b[0;31m---------------------------------------------------------------------------\u001b[0m",
      "\u001b[0;31mModuleNotFoundError\u001b[0m                       Traceback (most recent call last)",
      "\u001b[0;32m<ipython-input-4-88d96843a926>\u001b[0m in \u001b[0;36m<module>\u001b[0;34m\u001b[0m\n\u001b[0;32m----> 1\u001b[0;31m \u001b[0;32mimport\u001b[0m \u001b[0mkeras\u001b[0m\u001b[0;34m\u001b[0m\u001b[0;34m\u001b[0m\u001b[0m\n\u001b[0m",
      "\u001b[0;31mModuleNotFoundError\u001b[0m: No module named 'keras'"
     ]
    }
   ],
   "source": [
    "\n",
    "\n",
    "import keras"
   ]
  },
  {
   "cell_type": "code",
   "execution_count": 5,
   "metadata": {},
   "outputs": [
    {
     "name": "stdout",
     "output_type": "stream",
     "text": [
      "Collecting Keras\n",
      "\u001b[?25l  Downloading https://files.pythonhosted.org/packages/ad/fd/6bfe87920d7f4fd475acd28500a42482b6b84479832bdc0fe9e589a60ceb/Keras-2.3.1-py2.py3-none-any.whl (377kB)\n",
      "\u001b[K     |████████████████████████████████| 378kB 4.6MB/s eta 0:00:01\n",
      "\u001b[?25hRequirement already satisfied: scipy>=0.14 in /anaconda3/lib/python3.7/site-packages (from Keras) (1.3.0)\n",
      "Requirement already satisfied: h5py in /anaconda3/lib/python3.7/site-packages (from Keras) (2.9.0)\n",
      "Requirement already satisfied: pyyaml in /anaconda3/lib/python3.7/site-packages (from Keras) (5.1.1)\n",
      "Requirement already satisfied: keras-applications>=1.0.6 in /anaconda3/lib/python3.7/site-packages (from Keras) (1.0.8)\n",
      "Requirement already satisfied: six>=1.9.0 in /anaconda3/lib/python3.7/site-packages (from Keras) (1.12.0)\n",
      "Requirement already satisfied: numpy>=1.9.1 in /anaconda3/lib/python3.7/site-packages (from Keras) (1.16.4)\n",
      "Requirement already satisfied: keras-preprocessing>=1.0.5 in /anaconda3/lib/python3.7/site-packages (from Keras) (1.1.0)\n",
      "Installing collected packages: Keras\n",
      "Successfully installed Keras-2.3.1\n",
      "Note: you may need to restart the kernel to use updated packages.\n"
     ]
    }
   ],
   "source": [
    "pip install Keras\n"
   ]
  },
  {
   "cell_type": "code",
   "execution_count": 6,
   "metadata": {},
   "outputs": [
    {
     "name": "stderr",
     "output_type": "stream",
     "text": [
      "Using TensorFlow backend.\n"
     ]
    }
   ],
   "source": [
    "from keras.models import Sequential\n"
   ]
  },
  {
   "cell_type": "code",
   "execution_count": 7,
   "metadata": {},
   "outputs": [],
   "source": [
    "from keras.utils.np_utils import to_categorical\n",
    "from keras.layers import Dense, Dropout, Flatten, Conv2D, MaxPool2D, AvgPool2D, BatchNormalization, Reshape"
   ]
  },
  {
   "cell_type": "code",
   "execution_count": 8,
   "metadata": {},
   "outputs": [],
   "source": [
    "from keras.preprocessing.image import ImageDataGenerator"
   ]
  },
  {
   "cell_type": "code",
   "execution_count": 9,
   "metadata": {},
   "outputs": [],
   "source": [
    "from keras.callbacks import LearningRateScheduler"
   ]
  },
  {
   "cell_type": "code",
   "execution_count": 23,
   "metadata": {},
   "outputs": [
    {
     "ename": "SyntaxError",
     "evalue": "invalid character in identifier (<ipython-input-23-05d4739b44f1>, line 2)",
     "output_type": "error",
     "traceback": [
      "\u001b[0;36m  File \u001b[0;32m\"<ipython-input-23-05d4739b44f1>\"\u001b[0;36m, line \u001b[0;32m2\u001b[0m\n\u001b[0;31m    Conv2D(64, (3, 3), input_shape=input_shape, padding=’same’, activation=’relu’),\u001b[0m\n\u001b[0m                                                             ^\u001b[0m\n\u001b[0;31mSyntaxError\u001b[0m\u001b[0;31m:\u001b[0m invalid character in identifier\n"
     ]
    }
   ],
   "source": [
    "model = Sequential([\n",
    "Conv2D(64, (3, 3), input_shape=input_shape, padding=’same’, activation=’relu’),\n",
    "Conv2D(64, (3, 3), activation=’relu’, padding=’same’),\n",
    "MaxPooling2D(pool_size=(2, 2), strides=(2, 2)),\n",
    "Conv2D(128, (3, 3), activation=’relu’, padding=’same’),\n",
    "Conv2D(128, (3, 3), activation=’relu’, padding=’same’,),\n",
    "MaxPooling2D(pool_size=(2, 2), strides=(2, 2)),\n",
    "Conv2D(256, (3, 3), activation=’relu’, padding=’same’,),\n",
    "Conv2D(256, (3, 3), activation=’relu’, padding=’same’,),\n",
    "Conv2D(256, (3, 3), activation=’relu’, padding=’same’,),\n",
    "MaxPooling2D(pool_size=(2, 2), strides=(2, 2)),\n",
    "Conv2D(512, (3, 3), activation=’relu’, padding=’same’,),\n",
    "Conv2D(512, (3, 3), activation=’relu’, padding=’same’,),\n",
    "Conv2D(512, (3, 3), activation=’relu’, padding=’same’,),\n",
    "MaxPooling2D(pool_size=(2, 2), strides=(2, 2)),\n",
    "Conv2D(512, (3, 3), activation=’relu’, padding=’same’,),\n",
    "Conv2D(512, (3, 3), activation=’relu’, padding=’same’,),\n",
    "Conv2D(512, (3, 3), activation=’relu’, padding=’same’,),\n",
    "MaxPooling2D(pool_size=(2, 2), strides=(2, 2)),\n",
    "Flatten(),\n",
    "Dense(4096, activation=’relu’),\n",
    "Dense(4096, activation=’relu’),\n",
    "Dense(1000, activation=’softmax’)\n",
    "])"
   ]
  },
  {
   "cell_type": "code",
   "execution_count": 18,
   "metadata": {},
   "outputs": [],
   "source": [
    "annealer = LearningRateScheduler(lambda x: 1e-3 * 0.95 ** (x + epochs))\n",
    "epochs = 15"
   ]
  },
  {
   "cell_type": "code",
   "execution_count": 19,
   "metadata": {},
   "outputs": [],
   "source": [
    "import pickle"
   ]
  },
  {
   "cell_type": "code",
   "execution_count": 20,
   "metadata": {},
   "outputs": [],
   "source": [
    "with open('ToySet1.pickle', 'rb') as f:\n",
    "    data = pickle.load(f, encoding='latin1')"
   ]
  },
  {
   "cell_type": "code",
   "execution_count": 21,
   "metadata": {},
   "outputs": [
    {
     "name": "stdout",
     "output_type": "stream",
     "text": [
      "x_train: (540, 32, 32, 1)\n",
      "y_train: (540, 43)\n",
      "x_validation: (90, 32, 32, 1)\n",
      "y_validation: (90, 43)\n",
      "x_test: (180, 32, 32, 1)\n",
      "y_test: (180,)\n",
      "labels: 43\n"
     ]
    }
   ],
   "source": [
    "\n",
    "data['y_train'] = to_categorical(data['y_train'], num_classes=43)\n",
    "data['y_validation'] = to_categorical(data['y_validation'], num_classes=43)\n",
    "\n",
    "# Making channels come at the end\n",
    "data['x_train'] = data['x_train'].transpose(0, 2, 3, 1)\n",
    "data['x_validation'] = data['x_validation'].transpose(0, 2, 3, 1)\n",
    "data['x_test'] = data['x_test'].transpose(0, 2, 3, 1)\n",
    "\n",
    "# Showing loaded data from file\n",
    "for i, j in data.items():\n",
    "    if i == 'labels':\n",
    "        print(i + ':', len(j))\n",
    "    else: \n",
    "        print(i + ':', j.shape)"
   ]
  },
  {
   "cell_type": "code",
   "execution_count": 22,
   "metadata": {},
   "outputs": [
    {
     "name": "stdout",
     "output_type": "stream",
     "text": [
      "Train on 10 samples, validate on 90 samples\n",
      "Epoch 1/15\n",
      "10/10 [==============================] - 0s 49ms/step - loss: 164.8658 - accuracy: 0.1000 - val_loss: 171.7841 - val_accuracy: 0.3333\n",
      "Epoch 2/15\n",
      "10/10 [==============================] - 0s 25ms/step - loss: 106.4674 - accuracy: 0.6000 - val_loss: 147.1698 - val_accuracy: 0.3333\n",
      "Epoch 3/15\n",
      "10/10 [==============================] - 0s 25ms/step - loss: 148.0369 - accuracy: 0.2000 - val_loss: 37.6286 - val_accuracy: 0.5444\n",
      "Epoch 4/15\n",
      "10/10 [==============================] - 0s 22ms/step - loss: 11.9154 - accuracy: 0.6000 - val_loss: 50.0572 - val_accuracy: 0.3778\n",
      "Epoch 5/15\n",
      "10/10 [==============================] - 0s 23ms/step - loss: 23.9961 - accuracy: 0.7000 - val_loss: 54.1954 - val_accuracy: 0.6444\n",
      "Epoch 6/15\n",
      "10/10 [==============================] - 0s 22ms/step - loss: 10.4857 - accuracy: 0.9000 - val_loss: 30.8899 - val_accuracy: 0.3889\n",
      "Epoch 7/15\n",
      "10/10 [==============================] - 0s 23ms/step - loss: 0.2957 - accuracy: 0.9000 - val_loss: 21.5642 - val_accuracy: 0.3667\n",
      "Epoch 8/15\n",
      "10/10 [==============================] - 0s 22ms/step - loss: 0.6010 - accuracy: 0.9000 - val_loss: 18.9414 - val_accuracy: 0.5444\n",
      "Epoch 9/15\n",
      "10/10 [==============================] - 0s 23ms/step - loss: 1.0838 - accuracy: 0.9000 - val_loss: 22.6186 - val_accuracy: 0.6556\n",
      "Epoch 10/15\n",
      "10/10 [==============================] - 0s 22ms/step - loss: 1.2628 - accuracy: 0.9000 - val_loss: 22.9570 - val_accuracy: 0.6556\n",
      "Epoch 11/15\n",
      "10/10 [==============================] - 0s 24ms/step - loss: 1.2824 - accuracy: 0.9000 - val_loss: 20.5408 - val_accuracy: 0.6667\n",
      "Epoch 12/15\n",
      "10/10 [==============================] - 0s 24ms/step - loss: 1.0333 - accuracy: 0.9000 - val_loss: 15.8484 - val_accuracy: 0.6667\n",
      "Epoch 13/15\n",
      "10/10 [==============================] - 0s 27ms/step - loss: 0.3993 - accuracy: 0.9000 - val_loss: 10.7588 - val_accuracy: 0.6667\n",
      "Epoch 14/15\n",
      "10/10 [==============================] - 0s 29ms/step - loss: 0.1319 - accuracy: 0.9000 - val_loss: 4.6112 - val_accuracy: 0.7111\n",
      "Epoch 15/15\n",
      "10/10 [==============================] - 0s 32ms/step - loss: 2.2993e-05 - accuracy: 1.0000 - val_loss: 3.1434 - val_accuracy: 0.8000\n"
     ]
    }
   ],
   "source": [
    "h = model.fit(data['x_train'][:10], data['y_train'][:10],\n",
    "              batch_size=5, epochs = epochs,\n",
    "              validation_data = (data['x_validation'], data['y_validation']),\n",
    "              callbacks=[annealer], verbose=1)"
   ]
  },
  {
   "cell_type": "code",
   "execution_count": null,
   "metadata": {},
   "outputs": [],
   "source": []
  }
 ],
 "metadata": {
  "kernelspec": {
   "display_name": "Python 3",
   "language": "python",
   "name": "python3"
  },
  "language_info": {
   "codemirror_mode": {
    "name": "ipython",
    "version": 3
   },
   "file_extension": ".py",
   "mimetype": "text/x-python",
   "name": "python",
   "nbconvert_exporter": "python",
   "pygments_lexer": "ipython3",
   "version": "3.7.3"
  }
 },
 "nbformat": 4,
 "nbformat_minor": 2
}
