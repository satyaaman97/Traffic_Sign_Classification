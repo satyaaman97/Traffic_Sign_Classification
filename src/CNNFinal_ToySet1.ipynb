{
 "cells": [
  {
   "cell_type": "code",
   "execution_count": 48,
   "metadata": {},
   "outputs": [],
   "source": [
    "\n",
    "\n",
    "import keras"
   ]
  },
  {
   "cell_type": "code",
   "execution_count": 52,
   "metadata": {},
   "outputs": [
    {
     "name": "stdout",
     "output_type": "stream",
     "text": [
      "Requirement already satisfied: Keras in /anaconda3/lib/python3.7/site-packages (2.3.1)\n",
      "Requirement already satisfied: keras-preprocessing>=1.0.5 in /anaconda3/lib/python3.7/site-packages (from Keras) (1.1.0)\n",
      "Requirement already satisfied: scipy>=0.14 in /anaconda3/lib/python3.7/site-packages (from Keras) (1.3.0)\n",
      "Requirement already satisfied: six>=1.9.0 in /anaconda3/lib/python3.7/site-packages (from Keras) (1.12.0)\n",
      "Requirement already satisfied: pyyaml in /anaconda3/lib/python3.7/site-packages (from Keras) (5.1.1)\n",
      "Requirement already satisfied: numpy>=1.9.1 in /anaconda3/lib/python3.7/site-packages (from Keras) (1.16.4)\n",
      "Requirement already satisfied: h5py in /anaconda3/lib/python3.7/site-packages (from Keras) (2.9.0)\n",
      "Requirement already satisfied: keras-applications>=1.0.6 in /anaconda3/lib/python3.7/site-packages (from Keras) (1.0.8)\n",
      "Note: you may need to restart the kernel to use updated packages.\n"
     ]
    }
   ],
   "source": [
    "\n"
   ]
  },
  {
   "cell_type": "code",
   "execution_count": 49,
   "metadata": {},
   "outputs": [],
   "source": [
    "from keras.models import Sequential\n"
   ]
  },
  {
   "cell_type": "code",
   "execution_count": 50,
   "metadata": {},
   "outputs": [],
   "source": [
    "from keras.utils.np_utils import to_categorical\n",
    "from keras.layers import Dense, Dropout, Activation, Flatten, Conv2D,Convolution2D, MaxPool2D,MaxPooling2D, AvgPool2D, BatchNormalization, Reshape"
   ]
  },
  {
   "cell_type": "code",
   "execution_count": 51,
   "metadata": {},
   "outputs": [],
   "source": [
    "from keras.preprocessing.image import ImageDataGenerator"
   ]
  },
  {
   "cell_type": "code",
   "execution_count": 52,
   "metadata": {},
   "outputs": [],
   "source": [
    "from keras.callbacks import LearningRateScheduler"
   ]
  },
  {
   "cell_type": "code",
   "execution_count": 59,
   "metadata": {},
   "outputs": [
    {
     "name": "stderr",
     "output_type": "stream",
     "text": [
      "//anaconda3/lib/python3.7/site-packages/ipykernel_launcher.py:24: UserWarning: Update your `Conv2D` call to the Keras 2 API: `Conv2D(32, (3, 3), input_shape=(32, 32, 3..., padding=\"same\")`\n",
      "//anaconda3/lib/python3.7/site-packages/ipykernel_launcher.py:28: UserWarning: Update your `Conv2D` call to the Keras 2 API: `Conv2D(32, (3, 3))`\n",
      "//anaconda3/lib/python3.7/site-packages/ipykernel_launcher.py:34: UserWarning: Update your `Conv2D` call to the Keras 2 API: `Conv2D(64, (3, 3), padding=\"same\")`\n",
      "//anaconda3/lib/python3.7/site-packages/ipykernel_launcher.py:38: UserWarning: Update your `Conv2D` call to the Keras 2 API: `Conv2D(64, (3, 3))`\n"
     ]
    }
   ],
   "source": [
    "\n",
    "model = Sequential()\n",
    "model.add(Conv2D(32, (3, 3), border_mode='same',\n",
    "                          input_shape=(32,32,3)))\n",
    "model.add(Activation('relu'))\n",
    "  \n",
    "\n",
    "model.add(Conv2D(32, 3, 3))\n",
    "model.add(Activation('relu'))\n",
    "model.add(MaxPool2D(pool_size=2))\n",
    "#model.add(Dropout(0.5))\n",
    "  \n",
    "  # Add another convolution layer:\n",
    "model.add(Conv2D(64, 3, 3, border_mode='same'))\n",
    "model.add(Activation('relu'))\n",
    "  \n",
    "  # And yet another:\n",
    "model.add(Conv2D(64, 3, 3))\n",
    "model.add(Activation('relu'))\n",
    "model.add(MaxPool2D(pool_size=2))\n",
    "#model.add(Dropout(0.5))\n",
    "  \n",
    "  # Add a fully-connected layer:\n",
    "model.add(Flatten())\n",
    "model.add(Dense(43))\n",
    "model.add(Activation('relu'))\n",
    "model.add(Dropout(0.5))\n",
    "  \n",
    "  # Add a final softmax output layer:\n",
    "model.add(Dense(43))\n",
    "model.add(Activation('softmax'))\n",
    "model.compile(optimizer='adam', loss='categorical_crossentropy', metrics=['accuracy'])"
   ]
  },
  {
   "cell_type": "code",
   "execution_count": 60,
   "metadata": {},
   "outputs": [],
   "source": [
    "annealer = LearningRateScheduler(lambda x: 1e-3 * 0.95 ** (x + epochs))\n",
    "epochs = 15"
   ]
  },
  {
   "cell_type": "code",
   "execution_count": 61,
   "metadata": {},
   "outputs": [],
   "source": [
    "import pickle"
   ]
  },
  {
   "cell_type": "code",
   "execution_count": 62,
   "metadata": {},
   "outputs": [],
   "source": [
    "with open('OrgSet2_rgb.pickle', 'rb') as f:\n",
    "    data = pickle.load(f, encoding='latin1')"
   ]
  },
  {
   "cell_type": "code",
   "execution_count": 63,
   "metadata": {},
   "outputs": [
    {
     "name": "stdout",
     "output_type": "stream",
     "text": [
      "x_train: (34799, 32, 32, 3)\n",
      "y_train: (34799, 43)\n",
      "x_validation: (4410, 32, 32, 3)\n",
      "y_validation: (4410, 43)\n",
      "x_test: (12630, 32, 32, 3)\n",
      "y_test: (12630,)\n",
      "labels: 43\n"
     ]
    }
   ],
   "source": [
    "\n",
    "data['y_train'] = to_categorical(data['y_train'], num_classes=43)\n",
    "data['y_validation'] = to_categorical(data['y_validation'], num_classes=43)\n",
    "\n",
    "# Making channels come at the end\n",
    "data['x_train'] = data['x_train'].transpose(0, 2, 3, 1)\n",
    "data['x_validation'] = data['x_validation'].transpose(0, 2, 3, 1)\n",
    "data['x_test'] = data['x_test'].transpose(0, 2, 3, 1)\n",
    "\n",
    "# Showing loaded data from file\n",
    "for i, j in data.items():\n",
    "    if i == 'labels':\n",
    "        print(i + ':', len(j))\n",
    "    else: \n",
    "        print(i + ':', j.shape)"
   ]
  },
  {
   "cell_type": "code",
   "execution_count": 64,
   "metadata": {},
   "outputs": [
    {
     "name": "stdout",
     "output_type": "stream",
     "text": [
      "Train on 540 samples, validate on 4410 samples\n",
      "Epoch 1/15\n",
      "540/540 [==============================] - 8s 15ms/step - loss: 3.6614 - accuracy: 0.0630 - val_loss: 3.6383 - val_accuracy: 0.0542\n",
      "Epoch 2/15\n",
      "540/540 [==============================] - 9s 16ms/step - loss: 3.5818 - accuracy: 0.0685 - val_loss: 3.5155 - val_accuracy: 0.0755\n",
      "Epoch 3/15\n",
      "540/540 [==============================] - 9s 16ms/step - loss: 3.4356 - accuracy: 0.0907 - val_loss: 3.3784 - val_accuracy: 0.1524\n",
      "Epoch 4/15\n",
      "540/540 [==============================] - 8s 14ms/step - loss: 3.2409 - accuracy: 0.1759 - val_loss: 3.1822 - val_accuracy: 0.2020\n",
      "Epoch 5/15\n",
      "540/540 [==============================] - 7s 14ms/step - loss: 2.9557 - accuracy: 0.2333 - val_loss: 2.9801 - val_accuracy: 0.2084\n",
      "Epoch 6/15\n",
      "540/540 [==============================] - 8s 14ms/step - loss: 2.7519 - accuracy: 0.2556 - val_loss: 2.7271 - val_accuracy: 0.3077\n",
      "Epoch 7/15\n",
      "540/540 [==============================] - 8s 15ms/step - loss: 2.5463 - accuracy: 0.2963 - val_loss: 2.5246 - val_accuracy: 0.3576\n",
      "Epoch 8/15\n",
      "540/540 [==============================] - 8s 14ms/step - loss: 2.3443 - accuracy: 0.3556 - val_loss: 2.4903 - val_accuracy: 0.4061\n",
      "Epoch 9/15\n",
      "540/540 [==============================] - 8s 14ms/step - loss: 2.2701 - accuracy: 0.3685 - val_loss: 2.2685 - val_accuracy: 0.4163\n",
      "Epoch 10/15\n",
      "540/540 [==============================] - 8s 14ms/step - loss: 2.0521 - accuracy: 0.4111 - val_loss: 2.1575 - val_accuracy: 0.4508\n",
      "Epoch 11/15\n",
      "540/540 [==============================] - 8s 14ms/step - loss: 1.8580 - accuracy: 0.4481 - val_loss: 2.0950 - val_accuracy: 0.4492\n",
      "Epoch 12/15\n",
      "540/540 [==============================] - 8s 14ms/step - loss: 1.7859 - accuracy: 0.4815 - val_loss: 1.9893 - val_accuracy: 0.4739\n",
      "Epoch 13/15\n",
      "540/540 [==============================] - 8s 14ms/step - loss: 1.6786 - accuracy: 0.4759 - val_loss: 1.9708 - val_accuracy: 0.5172\n",
      "Epoch 14/15\n",
      "540/540 [==============================] - 7s 14ms/step - loss: 1.6187 - accuracy: 0.5074 - val_loss: 1.9092 - val_accuracy: 0.5190\n",
      "Epoch 15/15\n",
      "540/540 [==============================] - 8s 14ms/step - loss: 1.5345 - accuracy: 0.5222 - val_loss: 1.9150 - val_accuracy: 0.5311\n"
     ]
    }
   ],
   "source": [
    "\n",
    "h = model.fit(data['x_train'][:540], data['y_train'][:540],\n",
    "              batch_size=5, epochs = epochs,\n",
    "              validation_data = (data['x_validation'], data['y_validation']),\n",
    "              callbacks=[annealer], verbose=1)"
   ]
  },
  {
   "cell_type": "code",
   "execution_count": 34,
   "metadata": {},
   "outputs": [
    {
     "name": "stdout",
     "output_type": "stream",
     "text": [
      "Confusion Matrix\n",
      "[[0 0 0 ... 0 0 0]\n",
      " [0 0 0 ... 0 0 0]\n",
      " [0 0 0 ... 0 0 0]\n",
      " ...\n",
      " [0 0 0 ... 3 0 0]\n",
      " [0 0 0 ... 0 0 5]\n",
      " [0 0 0 ... 0 0 0]]\n",
      "Classification Report\n",
      "              precision    recall  f1-score   support\n",
      "\n",
      "           0       0.00      0.00      0.00        10\n",
      "           1       0.00      0.00      0.00        10\n",
      "           2       0.00      0.00      0.00        10\n",
      "           3       0.00      0.00      0.00        10\n",
      "           4       0.08      0.20      0.11        10\n",
      "           5       0.50      0.10      0.17        10\n",
      "           6       0.00      0.00      0.00        10\n",
      "           7       0.00      0.00      0.00        10\n",
      "           8       0.10      0.80      0.17        10\n",
      "           9       0.00      0.00      0.00        10\n",
      "          10       1.00      0.10      0.18        10\n",
      "          11       0.00      0.00      0.00        10\n",
      "          12       0.80      0.40      0.53        10\n",
      "          13       0.27      0.30      0.29        10\n",
      "          14       0.23      0.90      0.36        10\n",
      "          15       0.00      0.00      0.00        10\n",
      "          16       0.09      0.30      0.14        10\n",
      "          17       0.47      0.90      0.62        10\n",
      "          18       0.00      0.00      0.00        10\n",
      "          19       0.00      0.00      0.00        10\n",
      "          20       0.00      0.00      0.00        10\n",
      "          21       0.12      0.40      0.19        10\n",
      "          22       0.00      0.00      0.00        10\n",
      "          23       0.00      0.00      0.00        10\n",
      "          24       0.00      0.00      0.00        10\n",
      "          25       0.00      0.00      0.00        10\n",
      "          26       0.17      0.20      0.18        10\n",
      "          27       0.00      0.00      0.00        10\n",
      "          28       0.00      0.00      0.00        10\n",
      "          29       0.12      0.10      0.11        10\n",
      "          30       0.00      0.00      0.00        10\n",
      "          31       0.00      0.00      0.00        10\n",
      "          32       0.00      0.00      0.00        10\n",
      "          33       0.00      0.00      0.00        10\n",
      "          34       0.45      0.50      0.48        10\n",
      "          35       0.43      0.30      0.35        10\n",
      "          36       0.29      0.20      0.24        10\n",
      "          37       0.48      1.00      0.65        10\n",
      "          38       0.00      0.00      0.00        10\n",
      "          39       0.20      0.50      0.29        10\n",
      "          40       0.25      0.30      0.27        10\n",
      "          41       0.00      0.00      0.00        10\n",
      "          42       0.00      0.00      0.00        10\n",
      "\n",
      "    accuracy                           0.17       430\n",
      "   macro avg       0.14      0.17      0.12       430\n",
      "weighted avg       0.14      0.17      0.12       430\n",
      "\n"
     ]
    },
    {
     "name": "stderr",
     "output_type": "stream",
     "text": [
      "//anaconda3/lib/python3.7/site-packages/sklearn/metrics/classification.py:1437: UndefinedMetricWarning: Precision and F-score are ill-defined and being set to 0.0 in labels with no predicted samples.\n",
      "  'precision', 'predicted', average, warn_for)\n"
     ]
    }
   ],
   "source": [
    "import numpy as np\n",
    "from sklearn.metrics import confusion_matrix\n",
    "from sklearn.metrics import classification_report\n",
    "Y_pred = model.predict(data['x_validation'])\n",
    "y_pred = np.argmax(Y_pred, axis=1)\n",
    "y_val = np.argmax(data['y_validation'],axis=1)\n",
    "print('Confusion Matrix')\n",
    "print(confusion_matrix(y_val, y_pred))\n",
    "print('Classification Report')\n",
    "#target_names = ['Cats', 'Dogs', 'Horse']\n",
    "print(classification_report(y_val, y_pred))"
   ]
  },
  {
   "cell_type": "code",
   "execution_count": 35,
   "metadata": {},
   "outputs": [],
   "source": [
    "from itertools import cycle\n",
    "from sklearn.metrics import roc_curve, auc\n",
    "from sklearn.preprocessing import label_binarize\n",
    "from sklearn.multiclass import OneVsRestClassifier\n",
    "from scipy import interp\n",
    "import matplotlib.pyplot as plt"
   ]
  },
  {
   "cell_type": "code",
   "execution_count": 36,
   "metadata": {},
   "outputs": [],
   "source": [
    "fpr = dict()\n",
    "tpr = dict()\n",
    "roc_auc = dict()\n",
    "for i in range(43):\n",
    "    fpr[i], tpr[i], _ = roc_curve(data['y_validation'][:,i], Y_pred[:,i])\n",
    "    roc_auc[i] = auc(fpr[i], tpr[i])\n",
    "\n",
    "# Compute micro-average ROC curve and ROC area\n",
    "fpr[\"micro\"], tpr[\"micro\"], _ = roc_curve(data['y_validation'].ravel(), Y_pred.ravel())\n",
    "roc_auc[\"micro\"] = auc(fpr[\"micro\"], tpr[\"micro\"])"
   ]
  },
  {
   "cell_type": "code",
   "execution_count": 37,
   "metadata": {},
   "outputs": [
    {
     "data": {
      "image/png": "[encoded data removed]",
      "text/plain": [
       "<Figure size 432x288 with 1 Axes>"
      ]
     },
     "metadata": {
      "needs_background": "light"
     },
     "output_type": "display_data"
    }
   ],
   "source": [
    "all_fpr = np.unique(np.concatenate([fpr[i] for i in range(43)]))\n",
    "\n",
    "# Then interpolate all ROC curves at this points\n",
    "mean_tpr = np.zeros_like(all_fpr)\n",
    "for i in range(43):\n",
    "    mean_tpr += interp(all_fpr, fpr[i], tpr[i])\n",
    "\n",
    "# Finally average it and compute AUC\n",
    "mean_tpr /= 43\n",
    "\n",
    "fpr[\"macro\"] = all_fpr\n",
    "tpr[\"macro\"] = mean_tpr\n",
    "roc_auc[\"macro\"] = auc(fpr[\"macro\"], tpr[\"macro\"])\n",
    "\n",
    "# Plot all ROC curves\n",
    "plt.figure()\n",
    "plt.plot(fpr[\"micro\"], tpr[\"micro\"],\n",
    "         label='micro-average ROC curve (area = {0:0.2f})'\n",
    "               ''.format(roc_auc[\"micro\"]),\n",
    "         color='deeppink', linestyle=':', linewidth=4)\n",
    "\n",
    "'''\n",
    "plt.plot(fpr[\"macro\"], tpr[\"macro\"],\n",
    "         label='macro-average ROC curve (area = {0:0.2f})'\n",
    "               ''.format(roc_auc[\"macro\"]),\n",
    "         color='navy', linestyle=':', linewidth=4)\n",
    "'''\n",
    "'''\n",
    "colors = cycle(['aqua', 'darkorange', 'cornflowerblue'])\n",
    "for i, color in zip(range(43), colors):\n",
    "    plt.plot(fpr[i], tpr[i], color=color, lw=lw,\n",
    "             label='ROC curve of class {0} (area = {1:0.2f})'\n",
    "             ''.format(i, roc_auc[i]))\n",
    "    '''\n",
    "\n",
    "plt.plot([0, 1], [0, 1], 'k--')\n",
    "plt.xlim([0.0, 1.0])\n",
    "plt.ylim([0.0, 1.05])\n",
    "plt.xlabel('False Positive Rate')\n",
    "plt.ylabel('True Positive Rate')\n",
    "plt.title('Some extension of Receiver operating characteristic to multi-class')\n",
    "plt.legend(loc=\"lower right\")\n",
    "plt.show()"
   ]
  },
  {
   "cell_type": "code",
   "execution_count": 38,
   "metadata": {},
   "outputs": [
    {
     "name": "stdout",
     "output_type": "stream",
     "text": [
      "Average precision score, micro-averaged over all classes: 0.16\n"
     ]
    }
   ],
   "source": [
    "from sklearn.metrics import precision_recall_curve\n",
    "from sklearn.metrics import average_precision_score\n",
    "\n",
    "# For each class\n",
    "precision = dict()\n",
    "recall = dict()\n",
    "average_precision = dict()\n",
    "for i in range(43):\n",
    "    precision[i], recall[i], _ = precision_recall_curve(data['y_validation'][:,i], Y_pred[:,i])\n",
    "    average_precision[i] = average_precision_score(data['y_validation'][:,i], Y_pred[:,i])\n",
    "\n",
    "# A \"micro-average\": quantifying score on all classes jointly\n",
    "precision[\"micro\"], recall[\"micro\"], _ = precision_recall_curve(data['y_validation'].ravel(),\n",
    "    Y_pred.ravel())\n",
    "average_precision[\"micro\"] = average_precision_score(data['y_validation'], Y_pred,\n",
    "                                                     average=\"micro\")\n",
    "print('Average precision score, micro-averaged over all classes: {0:0.2f}'\n",
    "      .format(average_precision[\"micro\"]))"
   ]
  },
  {
   "cell_type": "code",
   "execution_count": 39,
   "metadata": {},
   "outputs": [
    {
     "data": {
      "text/plain": [
       "Text(0.5, 1.0, 'Average precision score, micro-averaged over all classes: AP=0.16')"
      ]
     },
     "execution_count": 39,
     "metadata": {},
     "output_type": "execute_result"
    },
    {
     "data": {
      "image/png": "[encoded data removed]",
      "text/plain": [
       "<Figure size 432x288 with 1 Axes>"
      ]
     },
     "metadata": {
      "needs_background": "light"
     },
     "output_type": "display_data"
    }
   ],
   "source": [
    "from inspect import signature\n",
    "# In matplotlib < 1.5, plt.fill_between does not have a 'step' argument\n",
    "step_kwargs = ({'step': 'post'}\n",
    "               if 'step' in signature(plt.fill_between).parameters\n",
    "               else {})\n",
    "\n",
    "\n",
    "plt.figure()\n",
    "plt.step(recall['micro'], precision['micro'], color='b', alpha=0.2,\n",
    "         where='post')\n",
    "plt.fill_between(recall[\"micro\"], precision[\"micro\"], alpha=0.2, color='b',\n",
    "                 **step_kwargs)\n",
    "\n",
    "plt.xlabel('Recall')\n",
    "plt.ylabel('Precision')\n",
    "plt.ylim([0.0, 1.05])\n",
    "plt.xlim([0.0, 1.0])\n",
    "plt.title(\n",
    "    'Average precision score, micro-averaged over all classes: AP={0:0.2f}'\n",
    "    .format(average_precision[\"micro\"]))"
   ]
  },
  {
   "cell_type": "code",
   "execution_count": null,
   "metadata": {},
   "outputs": [],
   "source": []
  }
 ],
 "metadata": {
  "kernelspec": {
   "display_name": "Python 3",
   "language": "python",
   "name": "python3"
  },
  "language_info": {
   "codemirror_mode": {
    "name": "ipython",
    "version": 3
   },
   "file_extension": ".py",
   "mimetype": "text/x-python",
   "name": "python",
   "nbconvert_exporter": "python",
   "pygments_lexer": "ipython3",
   "version": "3.7.3"
  }
 },
 "nbformat": 4,
 "nbformat_minor": 2
}
