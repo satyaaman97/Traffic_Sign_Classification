{
 "cells": [
  {
   "cell_type": "code",
   "execution_count": 51,
   "metadata": {},
   "outputs": [],
   "source": [
    "\n",
    "\n",
    "import keras"
   ]
  },
  {
   "cell_type": "code",
   "execution_count": 52,
   "metadata": {},
   "outputs": [
    {
     "name": "stdout",
     "output_type": "stream",
     "text": [
      "Requirement already satisfied: Keras in /anaconda3/lib/python3.7/site-packages (2.3.1)\n",
      "Requirement already satisfied: keras-preprocessing>=1.0.5 in /anaconda3/lib/python3.7/site-packages (from Keras) (1.1.0)\n",
      "Requirement already satisfied: scipy>=0.14 in /anaconda3/lib/python3.7/site-packages (from Keras) (1.3.0)\n",
      "Requirement already satisfied: six>=1.9.0 in /anaconda3/lib/python3.7/site-packages (from Keras) (1.12.0)\n",
      "Requirement already satisfied: pyyaml in /anaconda3/lib/python3.7/site-packages (from Keras) (5.1.1)\n",
      "Requirement already satisfied: numpy>=1.9.1 in /anaconda3/lib/python3.7/site-packages (from Keras) (1.16.4)\n",
      "Requirement already satisfied: h5py in /anaconda3/lib/python3.7/site-packages (from Keras) (2.9.0)\n",
      "Requirement already satisfied: keras-applications>=1.0.6 in /anaconda3/lib/python3.7/site-packages (from Keras) (1.0.8)\n",
      "Note: you may need to restart the kernel to use updated packages.\n"
     ]
    }
   ],
   "source": [
    "pip install Keras\n"
   ]
  },
  {
   "cell_type": "code",
   "execution_count": 53,
   "metadata": {},
   "outputs": [],
   "source": [
    "from keras.models import Sequential\n"
   ]
  },
  {
   "cell_type": "code",
   "execution_count": 54,
   "metadata": {},
   "outputs": [],
   "source": [
    "from keras.utils.np_utils import to_categorical\n",
    "from keras.layers import Dense, Dropout, Flatten, Conv2D, MaxPool2D, AvgPool2D, BatchNormalization, Reshape"
   ]
  },
  {
   "cell_type": "code",
   "execution_count": 55,
   "metadata": {},
   "outputs": [],
   "source": [
    "from keras.preprocessing.image import ImageDataGenerator"
   ]
  },
  {
   "cell_type": "code",
   "execution_count": 56,
   "metadata": {},
   "outputs": [],
   "source": [
    "from keras.callbacks import LearningRateScheduler"
   ]
  },
  {
   "cell_type": "code",
   "execution_count": 57,
   "metadata": {},
   "outputs": [],
   "source": [
    "model = Sequential()\n",
    "model.add(Conv2D(32, kernel_size=3, padding='same', activation='relu', input_shape=(32, 32, 1)))\n",
    "model.add(MaxPool2D(pool_size=2))\n",
    "model.add(Flatten())\n",
    "model.add(Dense(500, activation='relu'))\n",
    "model.add(Dense(43, activation='softmax'))\n",
    "model.compile(optimizer='adam', loss='categorical_crossentropy', metrics=['accuracy'])"
   ]
  },
  {
   "cell_type": "code",
   "execution_count": 58,
   "metadata": {},
   "outputs": [],
   "source": [
    "annealer = LearningRateScheduler(lambda x: 1e-3 * 0.95 ** (x + epochs))\n",
    "epochs = 15"
   ]
  },
  {
   "cell_type": "code",
   "execution_count": 59,
   "metadata": {},
   "outputs": [],
   "source": [
    "import pickle"
   ]
  },
  {
   "cell_type": "code",
   "execution_count": 60,
   "metadata": {},
   "outputs": [],
   "source": [
    "with open('ToySet1.pickle', 'rb') as f:\n",
    "    data = pickle.load(f, encoding='latin1')"
   ]
  },
  {
   "cell_type": "code",
   "execution_count": 61,
   "metadata": {},
   "outputs": [
    {
     "name": "stdout",
     "output_type": "stream",
     "text": [
      "x_train: (540, 32, 32, 1)\n",
      "y_train: (540, 43)\n",
      "x_validation: (90, 32, 32, 1)\n",
      "y_validation: (90, 43)\n",
      "x_test: (180, 32, 32, 1)\n",
      "y_test: (180,)\n",
      "labels: 43\n"
     ]
    }
   ],
   "source": [
    "\n",
    "data['y_train'] = to_categorical(data['y_train'], num_classes=43)\n",
    "data['y_validation'] = to_categorical(data['y_validation'], num_classes=43)\n",
    "\n",
    "# Making channels come at the end\n",
    "data['x_train'] = data['x_train'].transpose(0, 2, 3, 1)\n",
    "data['x_validation'] = data['x_validation'].transpose(0, 2, 3, 1)\n",
    "data['x_test'] = data['x_test'].transpose(0, 2, 3, 1)\n",
    "\n",
    "# Showing loaded data from file\n",
    "for i, j in data.items():\n",
    "    if i == 'labels':\n",
    "        print(i + ':', len(j))\n",
    "    else: \n",
    "        print(i + ':', j.shape)"
   ]
  },
  {
   "cell_type": "code",
   "execution_count": 62,
   "metadata": {},
   "outputs": [
    {
     "name": "stdout",
     "output_type": "stream",
     "text": [
      "Train on 10 samples, validate on 90 samples\n",
      "Epoch 1/15\n",
      "10/10 [==============================] - 0s 46ms/step - loss: 48.5968 - accuracy: 0.1000 - val_loss: 94.0589 - val_accuracy: 0.3333\n",
      "Epoch 2/15\n",
      "10/10 [==============================] - 0s 32ms/step - loss: 59.1913 - accuracy: 0.5000 - val_loss: 20.2273 - val_accuracy: 0.3667\n",
      "Epoch 3/15\n",
      "10/10 [==============================] - 0s 31ms/step - loss: 6.5431 - accuracy: 0.6000 - val_loss: 63.8403 - val_accuracy: 0.3333\n",
      "Epoch 4/15\n",
      "10/10 [==============================] - 0s 29ms/step - loss: 24.7200 - accuracy: 0.4000 - val_loss: 12.3600 - val_accuracy: 0.6333\n",
      "Epoch 5/15\n",
      "10/10 [==============================] - 0s 24ms/step - loss: 1.0040 - accuracy: 0.9000 - val_loss: 51.2566 - val_accuracy: 0.6556\n",
      "Epoch 6/15\n",
      "10/10 [==============================] - 0s 24ms/step - loss: 43.9677 - accuracy: 0.7000 - val_loss: 64.9111 - val_accuracy: 0.6556\n",
      "Epoch 7/15\n",
      "10/10 [==============================] - 0s 24ms/step - loss: 41.1630 - accuracy: 0.7000 - val_loss: 50.0961 - val_accuracy: 0.6556\n",
      "Epoch 8/15\n",
      "10/10 [==============================] - 0s 24ms/step - loss: 25.4182 - accuracy: 0.8000 - val_loss: 21.9288 - val_accuracy: 0.5889\n",
      "Epoch 9/15\n",
      "10/10 [==============================] - 0s 37ms/step - loss: 2.2992 - accuracy: 0.8000 - val_loss: 8.5693 - val_accuracy: 0.7667\n",
      "Epoch 10/15\n",
      "10/10 [==============================] - 0s 37ms/step - loss: 0.0000e+00 - accuracy: 1.0000 - val_loss: 49.5549 - val_accuracy: 0.3667\n",
      "Epoch 11/15\n",
      "10/10 [==============================] - 0s 28ms/step - loss: 7.3295 - accuracy: 0.6000 - val_loss: 65.8108 - val_accuracy: 0.3333\n",
      "Epoch 12/15\n",
      "10/10 [==============================] - 0s 23ms/step - loss: 3.5223 - accuracy: 0.8000 - val_loss: 36.2670 - val_accuracy: 0.5444\n",
      "Epoch 13/15\n",
      "10/10 [==============================] - 0s 24ms/step - loss: 0.0000e+00 - accuracy: 1.0000 - val_loss: 14.8774 - val_accuracy: 0.7222\n",
      "Epoch 14/15\n",
      "10/10 [==============================] - 0s 25ms/step - loss: 0.0000e+00 - accuracy: 1.0000 - val_loss: 4.4809 - val_accuracy: 0.8556\n",
      "Epoch 15/15\n",
      "10/10 [==============================] - 0s 26ms/step - loss: 0.0000e+00 - accuracy: 1.0000 - val_loss: 1.2752 - val_accuracy: 0.8889\n"
     ]
    }
   ],
   "source": [
    "h = model.fit(data['x_train'][:10], data['y_train'][:10],\n",
    "              batch_size=5, epochs = epochs,\n",
    "              validation_data = (data['x_validation'], data['y_validation']),\n",
    "              callbacks=[annealer], verbose=1)"
   ]
  },
  {
   "cell_type": "code",
   "execution_count": null,
   "metadata": {},
   "outputs": [],
   "source": []
  }
 ],
 "metadata": {
  "kernelspec": {
   "display_name": "Python 3",
   "language": "python",
   "name": "python3"
  },
  "language_info": {
   "codemirror_mode": {
    "name": "ipython",
    "version": 3
   },
   "file_extension": ".py",
   "mimetype": "text/x-python",
   "name": "python",
   "nbconvert_exporter": "python",
   "pygments_lexer": "ipython3",
   "version": "3.7.3"
  }
 },
 "nbformat": 4,
 "nbformat_minor": 2
}
